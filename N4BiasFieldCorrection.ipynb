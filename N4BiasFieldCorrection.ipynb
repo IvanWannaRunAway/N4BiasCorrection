{
 "cells": [
  {
   "cell_type": "code",
   "execution_count": 12,
   "id": "ba9ce0b0-e0d9-455a-bd5d-9743d3d0cca4",
   "metadata": {},
   "outputs": [],
   "source": [
    "import SimpleITK as sitk\n",
    "import glob\n",
    "import os"
   ]
  },
  {
   "cell_type": "code",
   "execution_count": 17,
   "id": "8a7ff7a9-e11a-4bd9-a60e-b5fbc82e6631",
   "metadata": {},
   "outputs": [],
   "source": [
    "path = 'C:/Users/91965/Desktop/practice/ldl/*' #glob：参数为路径以及文件过滤条件，若不设置过滤需填写为*，此函数会返回包括路径的文件夹和文件名\n",
    "outputpath = 'C:/Users/91965/Desktop/practice/N4outcome'"
   ]
  },
  {
   "cell_type": "code",
   "execution_count": 18,
   "id": "a497396e-fc81-4bb9-a876-90879f55dce9",
   "metadata": {},
   "outputs": [
    {
     "name": "stdout",
     "output_type": "stream",
     "text": [
      "Completed!\n"
     ]
    }
   ],
   "source": [
    "for file_abs in glob.glob(path):\n",
    "    imagePath = file_abs\n",
    "    input_image = sitk.ReadImage(imagePath)\n",
    "    mask_image = sitk.OtsuThreshold(input_image,0,1,200)\n",
    "    input_image = sitk.Cast(input_image, sitk.sitkFloat32)\n",
    "    corrector = sitk.N4BiasFieldCorrectionImageFilter()\n",
    "    output_image = corrector.Execute(input_image,mask_image)\n",
    "    output_image = sitk.Cast(output_image, sitk.sitkInt16)\n",
    "    #接下来输出文件名改为原名+N4\n",
    "    (filepath, tempfilename) = os.path.split(file_abs)\n",
    "    (filename, extension) = os.path.splitext(tempfilename)\n",
    "    tempfilename = filename + \"_N4\" + extension\n",
    "    file_out = os.path.join(outputpath, tempfilename)\n",
    "    sitk.WriteImage(output_image, file_out)\n",
    "    #sitk.WriteImage(output_image, file_out) mask如果想要输出得改路径path\n",
    "        \n",
    "print('Completed!')"
   ]
  },
  {
   "cell_type": "code",
   "execution_count": 2,
   "id": "da61c09e-027f-4a45-9cf4-5e1749ad1efa",
   "metadata": {},
   "outputs": [],
   "source": []
  },
  {
   "cell_type": "code",
   "execution_count": 2,
   "id": "86ff2ac3-5203-453f-b3c5-ca7fe0e5e2b2",
   "metadata": {},
   "outputs": [],
   "source": []
  }
 ],
 "metadata": {
  "kernelspec": {
   "display_name": "Python 3 (ipykernel)",
   "language": "python",
   "name": "python3"
  },
  "language_info": {
   "codemirror_mode": {
    "name": "ipython",
    "version": 3
   },
   "file_extension": ".py",
   "mimetype": "text/x-python",
   "name": "python",
   "nbconvert_exporter": "python",
   "pygments_lexer": "ipython3",
   "version": "3.9.13"
  }
 },
 "nbformat": 4,
 "nbformat_minor": 5
}
